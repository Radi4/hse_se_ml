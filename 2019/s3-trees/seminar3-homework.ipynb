{
 "cells": [
  {
   "cell_type": "code",
   "execution_count": 1,
   "metadata": {},
   "outputs": [],
   "source": [
    "%matplotlib inline\n",
    "import pandas as pd\n",
    "import numpy as np\n",
    "import matplotlib.pyplot as plt"
   ]
  },
  {
   "cell_type": "markdown",
   "metadata": {},
   "source": [
    "In this homework your task will be to modify `DecisionTreeClassifier` class from your practice in class."
   ]
  },
  {
   "cell_type": "markdown",
   "metadata": {},
   "source": [
    "### Task 1 (1 point) <br/>\n",
    "\n",
    "Download Breast Cancer Wisconsin (Diagnostic) Data Set `data.csv` from this course page. Read it using `pandas.read_csv()` function. To open the function description use `Shift` + `Tab` . Show the first 5 rows of the dataset using `pandas.DataFrame.head()` function.\n",
    "\n",
    "[Attribute Information](https://towardsdatascience.com/building-a-simple-machine-learning-model-on-breast-cancer-data-eca4b3b99fa3):\n",
    "\n",
    "* ID number \n",
    "* Diagnosis (M = malignant, B = benign) (**Class labels**)\n",
    "\n",
    "Ten real-valued features are computed for each cell nucleus:\n",
    "\n",
    "* radius (mean of distances from center to points on the perimeter)\n",
    "* texture (standard deviation of gray-scale values)\n",
    "* perimeter\n",
    "* area\n",
    "* smoothness (local variation in radius lengths)\n",
    "* compactness (perimeter² / area — 1.0)\n",
    "* concavity (severity of concave portions of the contour)\n",
    "* concave points (number of concave portions of the contour)\n",
    "* symmetry\n",
    "* fractal dimension (“coastline approximation” — 1)\n",
    "\n",
    "The mean, standard error and “worst” or largest (mean of the three largest values) of these features were computed for each image, resulting in 30 features. For instance, field 3 is Mean Radius, field 13 is Radius SE, field 23 is Worst Radius."
   ]
  },
  {
   "cell_type": "code",
   "execution_count": 2,
   "metadata": {},
   "outputs": [],
   "source": [
    "# Your code here"
   ]
  },
  {
   "cell_type": "markdown",
   "metadata": {},
   "source": [
    "### Task 2 (0.5 points) <br/>\n",
    "\n",
    "The target column for classification is `Diagnosis`. However, it is categorical feature, so you need to encode this by `0` and `1` values (M = 0, B = 1). Implement this encoding."
   ]
  },
  {
   "cell_type": "code",
   "execution_count": 3,
   "metadata": {},
   "outputs": [],
   "source": [
    "# Your code here"
   ]
  },
  {
   "cell_type": "markdown",
   "metadata": {},
   "source": [
    "### Task 3 (2 points) <br/>\n",
    "\n",
    "Now let's look at this data. For each input feature plot two historgrams in one figure: one historgram for `0` class and the second - for `1` class, as it was done in you practice in class. How do you think, what features are the most informative?"
   ]
  },
  {
   "cell_type": "code",
   "execution_count": 4,
   "metadata": {},
   "outputs": [],
   "source": [
    "# Your code here"
   ]
  },
  {
   "cell_type": "markdown",
   "metadata": {},
   "source": [
    "### Task 4 (0.5 points) <br/>\n",
    "\n",
    "Create matrix `X` and vector of labels `y`. Split them into train and test samples using `sklearn.model_selection.train_test_split()` function from scikit-learn library. Also, set up random state in the function `random_state=42`."
   ]
  },
  {
   "cell_type": "code",
   "execution_count": 5,
   "metadata": {},
   "outputs": [],
   "source": [
    "# Your code here"
   ]
  },
  {
   "cell_type": "markdown",
   "metadata": {},
   "source": [
    "### Task 5 (1 point) <br/>\n",
    "\n",
    "Fit `DecisionTreeClassifier` from you practice in class with this sample. What is `accuracy` of the classification on the test sample?  "
   ]
  },
  {
   "cell_type": "code",
   "execution_count": 6,
   "metadata": {},
   "outputs": [],
   "source": [
    "# Your code here"
   ]
  },
  {
   "cell_type": "markdown",
   "metadata": {},
   "source": [
    "### Task 6 (3 points) <br/>\n",
    "\n",
    "Implement feature importance estimation in `DecisionTreeClassifier`. Importance of a feature $f$ is defined as follows:\n",
    "\n",
    "* Let $T(f)$ be the set of all nodes, relying on feature $f$ when making split.\n",
    "* Efficiency of split at node $t$: $\\Delta I(t)=I(t)-\\sum_{c\\in childen(t)}\\frac{n_{c}}{n_{t}}I(c)$\n",
    "* Feature importance of $f$: $\\sum_{t\\in T(f)}n_{t}\\Delta I(t)$\n",
    "\n",
    "Calculate importance of input features in your dataset. What features are the most important (informative) for the classification?"
   ]
  },
  {
   "cell_type": "code",
   "execution_count": 7,
   "metadata": {},
   "outputs": [],
   "source": [
    "# Your code here"
   ]
  },
  {
   "cell_type": "markdown",
   "metadata": {},
   "source": [
    "### Task 7 (3 points) <br/>\n",
    "\n",
    "#### Reduced Error Pruning\n",
    "\n",
    "\"Pruning is a technique in machine learning that reduces the size of decision trees by removing sections of the tree that provide little power to classify instances. Pruning reduces the complexity of the final classifier, and hence improves predictive accuracy by the reduction of overfitting.\" [wiki](https://en.wikipedia.org/wiki/Decision_tree_pruning)\n",
    "\n",
    "Reduced Error Pruning procedure:\n",
    "\n",
    "* Starting form the bottom of a decision tree, remove each subtree. \n",
    "* Estimate classification accuracy on a test sample.\n",
    "* If the test accuracy is better, keep the changes.\n",
    "* Go to other node of the tree, repeat previous steps.\n",
    "\n",
    "Example:\n",
    "\n",
    "<table><tr>\n",
    "<td> <img src=\"img/pr1.png\" heigh=\"200\"> </td>\n",
    "<td> <img src=\"img/pr2.png\" heigh=\"200\"> </td>\n",
    "<td> <img src=\"img/pr3.png\" heigh=\"200\"> </td>\n",
    "</tr></table>\n",
    "\n",
    "Implement Reduced Error Pruning in you `DecisionTreeClassifier`. Fit the classifier similar to **Task 5** setting up `max_depth=20`. Prune this decision tree. Do you have test accuracy improvement?"
   ]
  },
  {
   "cell_type": "code",
   "execution_count": 8,
   "metadata": {},
   "outputs": [],
   "source": [
    "# Your code here"
   ]
  },
  {
   "cell_type": "code",
   "execution_count": null,
   "metadata": {},
   "outputs": [],
   "source": []
  }
 ],
 "metadata": {
  "kernelspec": {
   "display_name": "Python 3",
   "language": "python",
   "name": "python3"
  },
  "language_info": {
   "codemirror_mode": {
    "name": "ipython",
    "version": 3
   },
   "file_extension": ".py",
   "mimetype": "text/x-python",
   "name": "python",
   "nbconvert_exporter": "python",
   "pygments_lexer": "ipython3",
   "version": "3.7.1"
  }
 },
 "nbformat": 4,
 "nbformat_minor": 2
}
