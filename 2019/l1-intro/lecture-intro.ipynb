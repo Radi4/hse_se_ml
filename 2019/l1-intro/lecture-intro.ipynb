{
 "cells": [
  {
   "cell_type": "markdown",
   "metadata": {
    "slideshow": {
     "slide_type": "slide"
    }
   },
   "source": [
    "<center><img src=\"img/logo_hse_black.jpg\"></center>\n",
    "\n",
    "<h1><center>Data Analysis</center></h1>\n",
    "<h3><center>Andrey Shestakov (<a href=\"mailto:avshestakov@hse.ru\">avshestakov@hse.ru</a>)</center></h3>\n",
    "<hr>\n",
    "<h2><center>Intoduction<sup><a href=\"#fn1\" id=\"ref1\">1</a></sup></center></h2>\n",
    "\n",
    "\n",
    "\n",
    "<sup id=\"fn1\">1. Materials used from <a href=\"http://www.machinelearning.ru/wiki/index.php?title=%D0%9C%D0%B0%D1%82%D0%B5%D0%BC%D0%B0%D1%82%D0%B8%D1%87%D0%B5%D1%81%D0%BA%D0%B8%D0%B5_%D0%BC%D0%B5%D1%82%D0%BE%D0%B4%D1%8B_%D1%80%D0%B0%D1%81%D0%BF%D0%BE%D0%B7%D0%BD%D0%B0%D0%B2%D0%B0%D0%BD%D0%B8%D1%8F_%D0%BE%D0%B1%D1%80%D0%B0%D0%B7%D0%BE%D0%B2_%28%D0%BA%D1%83%D1%80%D1%81_%D0%BB%D0%B5%D0%BA%D1%86%D0%B8%D0%B9%2C_%D0%92.%D0%92.%D0%9A%D0%B8%D1%82%D0%BE%D0%B2%29\">machine learning course of Victor Kitov</a></sup>"
   ]
  },
  {
   "cell_type": "code",
   "execution_count": 4,
   "metadata": {
    "slideshow": {
     "slide_type": "notes"
    }
   },
   "outputs": [],
   "source": [
    "%matplotlib inline"
   ]
  },
  {
   "cell_type": "code",
   "execution_count": 6,
   "metadata": {
    "slideshow": {
     "slide_type": "notes"
    }
   },
   "outputs": [
    {
     "name": "stderr",
     "output_type": "stream",
     "text": [
      "/Users/andrey.shestakov/anaconda3/lib/python3.7/importlib/_bootstrap.py:219: RuntimeWarning: numpy.dtype size changed, may indicate binary incompatibility. Expected 96, got 88\n",
      "  return f(*args, **kwds)\n"
     ]
    }
   ],
   "source": [
    "import pandas as pd\n",
    "import numpy as np\n",
    "import matplotlib.pyplot as plt\n",
    "\n",
    "plt.style.use('ggplot')\n",
    "plt.rcParams['figure.figsize'] = (12,5)\n",
    "\n",
    "# Для кириллицы на графиках\n",
    "font = {'family': 'Verdana',\n",
    "        'weight': 'normal'}\n",
    "plt.rc('font', **font)\n",
    "\n",
    "try:\n",
    "    from ipywidgets import interact, IntSlider, fixed, FloatSlider\n",
    "except ImportError:\n",
    "    print(u'Так надо')\n",
    "    \n",
    "from IPython.display import YouTubeVideo"
   ]
  },
  {
   "cell_type": "markdown",
   "metadata": {
    "slideshow": {
     "slide_type": "slide"
    }
   },
   "source": [
    "# Course information\n",
    "\n",
    "* Instructor - Andrey Shestakov\n",
    "\n",
    "* Structure: \n",
    "    * lectures, seminars\n",
    "    * assignments: theoretical, labs, competitions\n",
    "    * exam\n",
    "\n",
    "\n",
    "* Tools\n",
    "    * python 3\n",
    "    * Jupyter Notebook\n",
    "    * numpy, scipy, pandas\n",
    "    * matplotlib, seaborn\n",
    "    * scikit-learn and more"
   ]
  },
  {
   "cell_type": "markdown",
   "metadata": {
    "slideshow": {
     "slide_type": "subslide"
    }
   },
   "source": [
    "# Recommended materials\n",
    "\n",
    "* [**The Elements of Statistical Learning: Data Mining, Inference, and Prediction**](http://web.stanford.edu/~hastie/ElemStatLearn/) Trevor Hastie, Robert Tibshirani, Jerome Friedman\n",
    "* **Data Mining: The Textbook** Charu C. Aggarwal, Springer, 2015. \n",
    "* [**Mining Massive Datasets**](http://www.mmds.org/)  Jure Leskovec, Anand Rajaraman, Jeff Ullman \n",
    "* **Statistical Pattern Recognition.** 3rd Edition, Andrew R. Webb, Keith D. Copsey, John Wiley & Sons Ltd., 2011.\n",
    "* [**Vorontsov's SHAD video lectures (Russian)**](https://yandexdataschool.ru/edu-process/courses/machine-learning).\n",
    "* [**Vorontsov's textual lectures (Russian)**](http://www.machinelearning.ru/wiki/index.php?title=\\%D0\\%9C\\%D0\\%BE).\n",
    "\n",
    "\n",
    "* Any additional public sources: \n",
    "    * wikipedia, articles, tutorials, video-lectures.\n",
    "\n",
    "\n",
    "* Practical questions: \n",
    "    * [StackOverflow](https://stackoverflow.com/), [scikit-learn documentation](http://scikit-learn.org/stable/documentation.html), [kaggle forum](https://www.kaggle.com/getting-started)\n"
   ]
  },
  {
   "cell_type": "markdown",
   "metadata": {
    "slideshow": {
     "slide_type": "slide"
    }
   },
   "source": [
    "# Motivation"
   ]
  },
  {
   "cell_type": "markdown",
   "metadata": {
    "slideshow": {
     "slide_type": "subslide"
    }
   },
   "source": [
    "## Motivation\n",
    "\n",
    "<center><img src='img/data_everywhere.jpg' width=700></center>"
   ]
  },
  {
   "cell_type": "markdown",
   "metadata": {
    "slideshow": {
     "slide_type": "subslide"
    }
   },
   "source": [
    "## Motivation\n",
    "\n",
    "<center><img src='img/ds-venn.png' width=500></center>"
   ]
  },
  {
   "cell_type": "markdown",
   "metadata": {
    "slideshow": {
     "slide_type": "subslide"
    }
   },
   "source": [
    "## Motivation\n",
    "\n",
    "<center><img src='img/ds-venn2.jpg' width=700></center>\n",
    "\n",
    "[50 years of data science](http://courses.csail.mit.edu/18.337/2015/docs/50YearsDataScience.pdf)"
   ]
  },
  {
   "cell_type": "markdown",
   "metadata": {
    "slideshow": {
     "slide_type": "subslide"
    }
   },
   "source": [
    "## Motivation\n",
    "* Data scientist is a highly wanted and well-paid specialization.\n",
    "* Should use machine learning \"apparatus\" to extract knowledge from data.\n"
   ]
  },
  {
   "cell_type": "markdown",
   "metadata": {
    "slideshow": {
     "slide_type": "subslide"
    }
   },
   "source": [
    "<center><img src='https://www.kdnuggets.com/images/cartoon-machine-learning-what-they-think.jpg'><center/>"
   ]
  },
  {
   "cell_type": "markdown",
   "metadata": {
    "slideshow": {
     "slide_type": "subslide"
    }
   },
   "source": [
    "## Machine learning?\n",
    "\n",
    "* Machine learning is a field of study that gives computers the ability to learn without being explicitly programmed.\n"
   ]
  },
  {
   "cell_type": "markdown",
   "metadata": {
    "slideshow": {
     "slide_type": "subslide"
    }
   },
   "source": [
    "## Examples\n",
    "\n",
    "* Spam filtering\n",
    "    * if sender belongs to black-list -> spam\n",
    "    * if contains phrase 'buy now' and sender is unknown -> spam\n",
    "    * ...\n",
    "\n",
    "\n",
    "* Part-of-speech tagger.\n",
    "    * if ends with 'ed' -> verb\n",
    "    * if previous word is 'the' -> noun\n",
    "    * ...\n",
    "\n",
    "\n",
    "* ML finds decision rules automatically with labelled data!"
   ]
  },
  {
   "cell_type": "markdown",
   "metadata": {
    "collapsed": true,
    "slideshow": {
     "slide_type": "subslide"
    }
   },
   "source": [
    "# Formal problem statement\n",
    "\n",
    "* Set of objects $O$\n",
    "* Each object is described by a vector of known characteristics $\\mathbf{x}\\in\\mathcal{X}$\n",
    "and predicted characteristics $y\\in\\mathcal{Y}$. \n",
    "$$\n",
    "o\\in O\\longrightarrow(\\mathbf{x},y)\n",
    "$$\n",
    "* **Task:** find a mapping  $f$, which could accurately approximate $\\mathcal{X}\\to\\mathcal{Y}$.\n",
    "    * using a finite **known set** of objects (learning)\n",
    "    * apply model for objects from the **test set** (prediction)\n",
    "    * understand revealed relationships in data (inference, interpretation)"
   ]
  },
  {
   "cell_type": "markdown",
   "metadata": {
    "slideshow": {
     "slide_type": "subslide"
    }
   },
   "source": [
    "# Specification of known/test sets\n",
    "\n",
    "Known set: \n",
    "* **supervised learning**: $(\\mathbf{x}_{1},y_{1}),(\\mathbf{x}_{2},y_{2}),...(\\mathbf{x}_{N},y_{N})$\n",
    "    * e.g. regression, classification.\n",
    "\n",
    "\n",
    "* **unsupervised learning**: $\\mathbf{x}_{1},\\mathbf{x}_{2},...\\mathbf{x}_{N}$\n",
    "    * e.g. dimensionality reduction, clustering, outlier analysis\n",
    "\n",
    "\n",
    "* **semi-supervised learning**: $(\\mathbf{x}_{1},y_{1}),(\\mathbf{x}_{2},y_{2}),...(\\mathbf{x}_{N},y_{N}),\\,\\mathbf{x}_{N+1},\\,\\mathbf{x}_{N+2},...\\mathbf{x}_{N+M}$"
   ]
  },
  {
   "cell_type": "markdown",
   "metadata": {
    "slideshow": {
     "slide_type": "slide"
    }
   },
   "source": [
    "# Toy examples"
   ]
  },
  {
   "cell_type": "markdown",
   "metadata": {
    "slideshow": {
     "slide_type": "subslide"
    }
   },
   "source": [
    "## Regression 1\n",
    "<center><img src='img/regression_task.png' width=700></center>\n",
    "Predict $y\\in\\mathbb{R}$ for any $x$"
   ]
  },
  {
   "cell_type": "markdown",
   "metadata": {
    "slideshow": {
     "slide_type": "subslide"
    }
   },
   "source": [
    "## Regression 2\n",
    "\n",
    "<center><img src='img/example1.png' width=700></center>\n",
    "\n",
    "* Obviously, those characteristics somehow relate with price ($f: X \\rightarrow Y$)\n",
    "* Formalize a model to predict flat price: \n",
    "    $$a(x) = a(total\\_area, nmbr\\_of\\_bedrooms, house\\_age) = \\hat{y}$$\n",
    "* Let it be a linear model:\n",
    "    $$a(x) = w_0 + w_1\\cdot total\\_area + w_2 \\cdot nmbr\\_of\\_bedrooms + w_3 \\cdot house\\_age$$\n",
    "* Learning - find coefficients $w_0,\\dots, w_3$, that minimizer error on training set"
   ]
  },
  {
   "cell_type": "markdown",
   "metadata": {
    "slideshow": {
     "slide_type": "subslide"
    }
   },
   "source": [
    "## Classificaion 1\n",
    "\n",
    "<center><img src='img/supervised.png' width=1000></center>\n",
    "Predict class $y$ shown with color for any point.\n"
   ]
  },
  {
   "cell_type": "markdown",
   "metadata": {
    "slideshow": {
     "slide_type": "subslide"
    }
   },
   "source": [
    "## Classification 2\n",
    "#### Inbox message classification\n",
    "Help user organize email inbox\n",
    "\n",
    "\n",
    "<center><img src='img/messages_cat_mail.png' width=700></center>\n",
    "\n",
    "* Natual Language Processing"
   ]
  },
  {
   "cell_type": "markdown",
   "metadata": {
    "slideshow": {
     "slide_type": "subslide"
    }
   },
   "source": [
    "## Unsupervised Learning. Clustering\n",
    "\n",
    "<center><img src='img/unsupervised.png' width=1200></center>"
   ]
  },
  {
   "cell_type": "markdown",
   "metadata": {
    "slideshow": {
     "slide_type": "subslide"
    }
   },
   "source": [
    "## Clustering\n",
    "\n",
    "<center><img src=\"https://i.ytimg.com/vi/zPJtDohab-g/maxresdefault.jpg\" width=600></center>"
   ]
  },
  {
   "cell_type": "markdown",
   "metadata": {
    "slideshow": {
     "slide_type": "subslide"
    }
   },
   "source": [
    "## Unsupervised Learning. Dimensionality reduction\n",
    "\n",
    "<center><img src='img/High dimensional data-ISOMAP.png' width=1200></center>\n",
    "Reduce dimension from 3D to 2D with minimal distortion."
   ]
  },
  {
   "cell_type": "markdown",
   "metadata": {
    "slideshow": {
     "slide_type": "subslide"
    }
   },
   "source": [
    "## Outlier Detection Task\n",
    "\n",
    "<center><img src='img/outlier detection task.png' width=700></center>\n",
    "Detect untypical observations."
   ]
  },
  {
   "cell_type": "markdown",
   "metadata": {
    "slideshow": {
     "slide_type": "subslide"
    }
   },
   "source": [
    "## Recommender Systems\n",
    "\n",
    "<center><img src='img/recsys.png' width=1000></center>"
   ]
  },
  {
   "cell_type": "markdown",
   "metadata": {
    "slideshow": {
     "slide_type": "subslide"
    }
   },
   "source": [
    "## Recommender Systems\n",
    "\n",
    "<center><img src='img/recsys_delivery.png' width=400></center>"
   ]
  },
  {
   "cell_type": "markdown",
   "metadata": {
    "slideshow": {
     "slide_type": "subslide"
    }
   },
   "source": [
    "## Ranking\n",
    "\n",
    "<center><img src='img/search_mail.png' width=600></center>\n"
   ]
  },
  {
   "cell_type": "markdown",
   "metadata": {
    "slideshow": {
     "slide_type": "subslide"
    }
   },
   "source": [
    "# Reinforcement learning\n",
    "\n",
    "* RL setup:\n",
    "    * a set of environment and agent states $S$; \n",
    "    * a set of actions $A$, of the agent\n",
    "    * $P(s_{t+1}=s'|s_{t}=s,a_{t}=a)$ is the probability of transition\n",
    "from state s to state s' under action a. \n",
    "    * $R_{a}(s,s')$ is the (expected) immediate reward after transition\n",
    "from $s$ to $s'$ with action $a$. \n",
    "* Well-suited to problems which include a long-term versus short-term\n",
    "reward trade-off\n",
    "\n",
    "\n",
    "* Applications: robot control, elevator scheduling, games (chess, go, **DOTA**),\n",
    "etc.\n"
   ]
  },
  {
   "cell_type": "code",
   "execution_count": 12,
   "metadata": {
    "slideshow": {
     "slide_type": "subslide"
    }
   },
   "outputs": [
    {
     "data": {
      "image/jpeg": "[encoded data removed]",
      "text/html": [
       "\n",
       "        <iframe\n",
       "            width=\"700\"\n",
       "            height=\"600\"\n",
       "            src=\"https://www.youtube.com/embed/V1eYniJ0Rnk\"\n",
       "            frameborder=\"0\"\n",
       "            allowfullscreen\n",
       "        ></iframe>\n",
       "        "
      ],
      "text/plain": [
       "<IPython.lib.display.YouTubeVideo at 0x10602b910>"
      ]
     },
     "execution_count": 12,
     "metadata": {},
     "output_type": "execute_result"
    }
   ],
   "source": [
    "YouTubeVideo('V1eYniJ0Rnk', width=700, height=600)"
   ]
  },
  {
   "cell_type": "markdown",
   "metadata": {
    "slideshow": {
     "slide_type": "slide"
    }
   },
   "source": [
    "# General Problem Statement\n",
    "\n",
    "* We want to approximate $f(x):\\,X\\to Y$\n",
    "\n",
    "* Questions in ML:\n",
    "    * what target $y$ we are predicting?\n",
    "    * how to select object descriptors (features) $x$?\n",
    "    * what is the kind of mapping $f$?\n",
    "    * in what sense a mapping $f$ should approximate true relationship?\n",
    "    * how to tune $f$?"
   ]
  },
  {
   "cell_type": "markdown",
   "metadata": {
    "slideshow": {
     "slide_type": "subslide"
    }
   },
   "source": [
    "## Types of target variable (supervised learning)\n",
    "\n",
    "\n",
    "* $\\mathcal{Y}=\\mathbb{R}$ - regression \n",
    "    * e.g. flat price\n",
    "\n",
    "\n",
    "* $\\mathcal{Y}=\\mathbb{R}^{M}$ - vector regression\n",
    "    * e.g. stock price dynamics\n"
   ]
  },
  {
   "cell_type": "markdown",
   "metadata": {
    "slideshow": {
     "slide_type": "subslide"
    }
   },
   "source": [
    "## Types of target variable (supervised learning)\n",
    "\n",
    "* $\\mathcal{Y}=\\{\\omega_{1},\\omega_{2},...\\omega_{C}\\}$ - classification.\n",
    "    * C=2: binary classification.\n",
    "    * e.g. spam / not spam (ham)\n",
    "\n",
    "\n",
    "* C>2: multi-class classification\n",
    "    * e.g. identity recognition, activity recognition\n",
    "\n",
    "\n",
    "* $\\mathcal{Y}$ - any subset of $\\{\\omega_{1},\\omega_{2},...\\omega_{C}\\}$ - labeling\n",
    "    * e.g. news categorization"
   ]
  },
  {
   "cell_type": "markdown",
   "metadata": {
    "slideshow": {
     "slide_type": "subslide"
    }
   },
   "source": [
    "## Types of features\n",
    "\n",
    "* Full object description $\\mathbf{x}\\in\\mathcal{X}$ consists of individual\n",
    "features $x^{i}\\in\\mathcal{X}_{i}$\n",
    "* Types of feature (e.g. for credit scoring):\n",
    "    * $\\mathcal{X}_{i}=\\{0,1\\}$ - binary feature\n",
    "        * e.g. marital status \n",
    "    * $|\\mathcal{X}_{i}|<\\infty$ - categorical (nominal) feature\n",
    "        * e.g. occupation\n",
    "    * $|\\mathcal{X}_{i}|<\\infty$ and $\\mathcal{X}_{i}$ is ordered - ordinal feature\n",
    "        *  e.g.education level\n",
    "    * $\\mathcal{X}_{i}=\\mathbb{R}$ - continuous feature\n",
    "        * e.g. age"
   ]
  },
  {
   "cell_type": "markdown",
   "metadata": {
    "slideshow": {
     "slide_type": "subslide"
    }
   },
   "source": [
    "\n",
    "## Known Set\n",
    "Known set: $(\\mathbf{x}_{1},y_{1}),...(\\mathbf{x}_{M},y_{M})$ <br/>\n",
    "design matrix $X=[\\mathbf{x}_{1},...\\mathbf{x}_{M}]^{T}$, $Y=[y_{1},...y_{M}]^{T}$.\n",
    "\n",
    "<center><img src='img/known_all.png'></center>"
   ]
  },
  {
   "cell_type": "markdown",
   "metadata": {
    "slideshow": {
     "slide_type": "subslide"
    }
   },
   "source": [
    "\n",
    "## Known Set\n",
    "Known set: $(\\mathbf{x}_{1},y_{1}),...(\\mathbf{x}_{M},y_{M})$ <br/>\n",
    "design matrix $X=[\\mathbf{x}_{1},...\\mathbf{x}_{M}]^{T}$, $Y=[y_{1},...y_{M}]^{T}$.\n",
    "\n",
    "<center><img src='img/known_all_object.png'></center>"
   ]
  },
  {
   "cell_type": "markdown",
   "metadata": {
    "slideshow": {
     "slide_type": "subslide"
    }
   },
   "source": [
    "\n",
    "## Known Set\n",
    "Known set: $(\\mathbf{x}_{1},y_{1}),...(\\mathbf{x}_{M},y_{M})$ <br/>\n",
    "design matrix $X=[\\mathbf{x}_{1},...\\mathbf{x}_{M}]^{T}$, $Y=[y_{1},...y_{M}]^{T}$.\n",
    "\n",
    "<center><img src='img/known_all_feature.png'></center>"
   ]
  },
  {
   "cell_type": "markdown",
   "metadata": {
    "slideshow": {
     "slide_type": "subslide"
    }
   },
   "source": [
    "# Test set\n",
    "\n",
    "* Known sample $X,Y$: $(\\mathbf{x}_{1},y_{1}),...(\\mathbf{x}_{M},y_{M})$\n",
    "* Test sample $X',Y'$: $(\\mathbf{x}_{1}',y_{1}'),...(\\mathbf{x}_{K}',y_{K}')$\n",
    "\n",
    "<center><img src='img/train_test_feature.png'></center>"
   ]
  },
  {
   "cell_type": "markdown",
   "metadata": {
    "slideshow": {
     "slide_type": "subslide"
    }
   },
   "source": [
    "### Credit scoring\n",
    "* Objects — credit applicantion\n",
    "* Target — return credit of not\n",
    "* Kind of task and features?\n"
   ]
  },
  {
   "cell_type": "markdown",
   "metadata": {
    "slideshow": {
     "slide_type": "subslide"
    }
   },
   "source": [
    "### Credit scoring\n",
    "* Binary: sex, \n",
    "* Categorical: living region, profession, marital status\n",
    "* Ordinal: education level, work grade\n",
    "* Continuous: age, wage"
   ]
  },
  {
   "cell_type": "markdown",
   "metadata": {
    "slideshow": {
     "slide_type": "subslide"
    }
   },
   "source": [
    "### Churn prediction\n",
    "* Object — online game user\n",
    "* Target — will he/she lose interest in playing after 2 weeks?\n",
    "* Kind of task and features?"
   ]
  },
  {
   "cell_type": "markdown",
   "metadata": {
    "slideshow": {
     "slide_type": "subslide"
    }
   },
   "source": [
    "### Churn prediction\n",
    "* Binary: premium user\n",
    "* Categorical: avatar class, game plan\n",
    "* Continuous: average playing hours per day, number of characters, chat activity"
   ]
  },
  {
   "cell_type": "markdown",
   "metadata": {
    "slideshow": {
     "slide_type": "slide"
    }
   },
   "source": [
    "# Learning = Representation + Evaluation + Optimization\n",
    "\n",
    "[A Few Useful Things to Know about Machine Learning](https://homes.cs.washington.edu/~pedrod/papers/cacm12.pdf) // Pedro Domingos"
   ]
  },
  {
   "cell_type": "markdown",
   "metadata": {
    "slideshow": {
     "slide_type": "slide"
    }
   },
   "source": [
    "## Model Class (Representation)\n",
    "### Linear Example\n",
    "\n",
    "* **Function class** - parametrized set of functions $F=\\{f_{\\theta},\\,\\theta\\in\\Theta\\}$,\n",
    "from which the true relationship $\\mathcal{X}\\to\\mathcal{Y}$ is approximated.\n",
    "    * **Regression**: $\\widehat{y}=f(x|\\theta)$, \n",
    "    * **Classification**: $\\widehat{y}=f(x|\\theta)=\\arg\\max_{c}\\left\\{ g_{c}(x|\\theta)\\right\\} $, $c=1,2,...C$.\n",
    "        * $c=1,2,...C$: possible classes, $g_{c}(x)$ - score of class $c$,\n",
    "given $x$ called *discriminant function*"
   ]
  },
  {
   "cell_type": "markdown",
   "metadata": {
    "slideshow": {
     "slide_type": "subslide"
    }
   },
   "source": [
    "## Examples\n",
    "\n",
    "<style type=\"text/css\">\n",
    ".tg  {border-collapse:collapse;border-spacing:0;}\n",
    ".tg td{font-family:Arial, sans-serif;font-size:14px;padding:10px 5px;border-style:solid;border-width:1px;overflow:hidden;word-break:normal;}\n",
    ".tg th{font-family:Arial, sans-serif;font-size:14px;font-weight:normal;padding:10px 5px;border-style:solid;border-width:1px;overflow:hidden;word-break:normal;}\n",
    "</style>\n",
    "<table class=\"tg\">\n",
    "  <tr>\n",
    "    <th class=\"tg-031e\"> linear regression $y\\in\\mathbb{R}$: $$f(x\\mathbf{|\\theta})=\\theta_{0}+\\theta_{1}x$$ <img width=400 src='img/linear regression.png'></th>\n",
    "    <th class=\"tg-031e\"> linear classification $y\\in\\{1,2\\}$:\n",
    "\\begin{align*}\n",
    "g_{c}(\\mathbf{x}|\\theta) & =\\theta_{c}^{0}+\\theta_{c}^{1}x^{1}+\\theta_{c}^{2}x^{2},\\,c=1,2.\\\\\n",
    "f(\\mathbf{x|\\theta}) & =\\arg\\max_{c}g_{c}(x|\\theta)\n",
    "\\end{align*}<img width=500 src='img/linear classification.png'></th>\n",
    "  </tr>\n",
    "</table>"
   ]
  },
  {
   "cell_type": "markdown",
   "metadata": {
    "slideshow": {
     "slide_type": "subslide"
    }
   },
   "source": [
    "## Loss function vs model quality (Evaluation)\n",
    "\n",
    "* In machine learning models try to optimize some function, which you can call:\n",
    "    * **score, rating** - if you are maximizing\n",
    "    * **loss, cost, error** - if you are minimized\n",
    "    * both score and loss can be computed for individual objects\n",
    "    * directly optimized in model\n",
    "    \n",
    "    \n",
    "* Model **quality measures** are used to compare diffrent models' performance on test set\n",
    "    * some of them can not be directly optimized in the model\n",
    "    * usually can not be computed for individual objects\n"
   ]
  },
  {
   "cell_type": "markdown",
   "metadata": {
    "slideshow": {
     "slide_type": "subslide"
    }
   },
   "source": [
    "## Loss function $\\mathcal{L}(\\widehat{y},y)$\n",
    "\n",
    "* **regression**:\n",
    "    * MAE (mean absolute error):\n",
    "$$\n",
    "\\mathcal{L}(\\widehat{y},y)=\\frac{1}{N}\\sum\\limits_i\\left|\\widehat{y}_i-y_i\\right|\n",
    "$$\n",
    "    * MSE (mean squared error):\n",
    "$$\n",
    "\\mathcal{L}(\\widehat{y},y)=\\frac{1}{N}\\sum\\limits_i\\left(\\widehat{y}_i-y_i\\right)^{2}\n",
    "$$\n",
    "\n",
    "<center><img src='img/metric-example.png'></center>"
   ]
  },
  {
   "cell_type": "code",
   "execution_count": 9,
   "metadata": {
    "slideshow": {
     "slide_type": "notes"
    }
   },
   "outputs": [
    {
     "name": "stderr",
     "output_type": "stream",
     "text": [
      "/Users/andrey.shestakov/anaconda3/lib/python3.7/site-packages/ipykernel_launcher.py:4: RuntimeWarning: divide by zero encountered in log\n",
      "  after removing the cwd from sys.path.\n",
      "/Users/andrey.shestakov/anaconda3/lib/python3.7/site-packages/ipykernel_launcher.py:5: RuntimeWarning: divide by zero encountered in log\n",
      "  \"\"\"\n"
     ]
    }
   ],
   "source": [
    "## Еще раз про logloss\n",
    "\n",
    "h = np.linspace(0, 1, 200) # вероятность класса +1, которую дает классификатор\n",
    "L1 = -np.log(h) # полагаем, то объект относится к классу +1. Тогда это значение его ошибки logloss\n",
    "L2 = -np.log(1-h) # полагаем, то объект относится к классу -1. Тогда это значение его ошибки logloss\n"
   ]
  },
  {
   "cell_type": "markdown",
   "metadata": {
    "slideshow": {
     "slide_type": "subslide"
    }
   },
   "source": [
    "* **classification**:\n",
    "    * log-loss\n",
    "$$\n",
    "\\mathcal{L}(\\widehat{y},y)=\\mathbb{I}[y==1]\\log\\left(p(\\hat{y} = 1)\\right) + \\mathbb{I}[y==-1]\\log\\left(p(\\hat{y}=-1)\\right)\n",
    "$$\n"
   ]
  },
  {
   "cell_type": "code",
   "execution_count": 11,
   "metadata": {
    "slideshow": {
     "slide_type": "fragment"
    }
   },
   "outputs": [
    {
     "data": {
      "image/png": "[encoded data removed]",
      "text/plain": [
       "<Figure size 864x360 with 1 Axes>"
      ]
     },
     "metadata": {},
     "output_type": "display_data"
    }
   ],
   "source": [
    "plt.plot(h, L1, label='logloss if y = +1')\n",
    "plt.plot(h, L2, label='logloss if y = -1')\n",
    "plt.ylabel('logloss')\n",
    "plt.xlabel('classifier probability of +1')\n",
    "\n",
    "_ = plt.legend()"
   ]
  },
  {
   "cell_type": "markdown",
   "metadata": {
    "slideshow": {
     "slide_type": "subslide"
    }
   },
   "source": [
    "## Optimization\n",
    "\n",
    "<style type=\"text/css\">\n",
    ".tg  {border-collapse:collapse;border-spacing:0;}\n",
    ".tg td{font-family:Arial, sans-serif;font-size:14px;padding:10px 5px;border-style:solid;border-width:1px;overflow:hidden;word-break:normal;}\n",
    ".tg th{font-family:Arial, sans-serif;font-size:14px;font-weight:normal;padding:10px 5px;border-style:solid;border-width:1px;overflow:hidden;word-break:normal;}\n",
    "</style>\n",
    "<table class=\"tg\">\n",
    "  <tr>\n",
    "    <th class=\"tg-031e\"><img src='http://sebastianruder.com/content/images/2016/09/contours_evaluation_optimizers.gif'></th>\n",
    "    <th class=\"tg-031e\"><img src='http://sebastianruder.com/content/images/2016/09/saddle_point_evaluation_optimizers.gif'></th>\n",
    "  </tr>\n",
    "</table>"
   ]
  },
  {
   "cell_type": "markdown",
   "metadata": {
    "slideshow": {
     "slide_type": "slide"
    }
   },
   "source": [
    "## Overfitting - Underfitting\n",
    "\n",
    "<center><img src='img/overfit.png'></center>"
   ]
  },
  {
   "cell_type": "markdown",
   "metadata": {
    "slideshow": {
     "slide_type": "slide"
    }
   },
   "source": [
    "## Empirical risk\n",
    "\n",
    "* Want to minimize *expected risk*:\n",
    "$$\n",
    "\\mathit{\\int}\\int\\mathit{\\mathcal{L}(f_{\\theta}(\\mathbf{x}),y) \\cdot p(\\mathbf{x},y)d\\mathbf{x}dy\\to\\min_{\\theta}}\n",
    "$$"
   ]
  },
  {
   "cell_type": "markdown",
   "metadata": {
    "slideshow": {
     "slide_type": "fragment"
    }
   },
   "source": [
    "* In fact we have only $X$,$Y$ (Known set) and $X'$ (Test set)\n",
    "\n",
    "* Can minimize *empirical risk*\n",
    "$$\n",
    "L(\\theta|X,Y)=\\frac{1}{N}\\sum_{n=1}^{N}\\mathcal{L}(f_{\\theta}(\\mathbf{x}_{n}),\\,y_{n})\n",
    "$$\n",
    "\n",
    "* Method of empirical risk minimization:\n",
    "$$\n",
    "\\widehat{\\theta}=\\arg\\min_{\\theta}L(\\theta|X,Y)\n",
    "$$\n"
   ]
  },
  {
   "cell_type": "markdown",
   "metadata": {
    "slideshow": {
     "slide_type": "fragment"
    }
   },
   "source": [
    "* How to get realistic estimate of $L(\\widehat{\\theta}|X',Y')$?\n",
    "    * separate **validation set**\n",
    "    * **cross-validation**\n",
    "    * **leave-one-out** method"
   ]
  },
  {
   "cell_type": "markdown",
   "metadata": {
    "slideshow": {
     "slide_type": "subslide"
    }
   },
   "source": [
    "# Summary\n",
    "\n",
    "* Machine learning algorithms reconstruct relationship between features $x$ and outputs $y$.\n",
    "* Relationship is reconstructed by optimal function $\\widehat{y}=f_{\\widehat{\\theta}}(x)$ from function class $\\{f_{\\theta}(x),\\,\\theta\\in\\Theta\\}$.\n",
    "* $\\theta$ is particular controls model complexity, models may be too simple and too complex.\n",
    "* $\\widehat{\\theta}$ selected to minimize empirical risk $\\frac{1}{N}\\sum_{n=1}^{N}\\mathcal{L}(f_{\\theta}(x_{n}),y_{n})$ for some loss function $\\mathcal{L}(\\widehat{y},y)$.\n",
    "* Overfitting - non-realistic estimate of expected loss on the training set.\n",
    "* To avoid overfitting - use validation sets, cross-validation, A/B test."
   ]
  },
  {
   "cell_type": "markdown",
   "metadata": {
    "slideshow": {
     "slide_type": "subslide"
    }
   },
   "source": [
    "# FYI\n",
    "\n",
    "* [Open Data Science Russion Community](http://ods.ai/)\n",
    "* [ML Trainings](https://www.youtube.com/channel/UCeq6ZIlvC9SVsfhfKnSvM9w)\n",
    "* [Kaggle](https://www.kaggle.com/)"
   ]
  }
 ],
 "metadata": {
  "_draft": {
   "nbviewer_url": "https://gist.github.com/1f8c4751e12938961e423759861e6e5a"
  },
  "anaconda-cloud": {},
  "celltoolbar": "Slideshow",
  "gist": {
   "data": {
    "description": "CloudMail/hse-da-course/raw/lecture-intro/lecture-intro-v01.ipynb",
    "public": false
   },
   "id": "1f8c4751e12938961e423759861e6e5a"
  },
  "kernelspec": {
   "display_name": "Python 3",
   "language": "python",
   "name": "python3"
  },
  "language_info": {
   "codemirror_mode": {
    "name": "ipython",
    "version": 3
   },
   "file_extension": ".py",
   "mimetype": "text/x-python",
   "name": "python",
   "nbconvert_exporter": "python",
   "pygments_lexer": "ipython3",
   "version": "3.7.0"
  },
  "livereveal": {
   "theme": "serif",
   "transition": "concave"
  },
  "nav_menu": {},
  "toc": {
   "base_numbering": 1,
   "nav_menu": {
    "height": "513px",
    "width": "253px"
   },
   "number_sections": false,
   "sideBar": false,
   "skip_h1_title": false,
   "title_cell": "Table of Contents",
   "title_sidebar": "Contents",
   "toc_cell": false,
   "toc_position": {},
   "toc_section_display": "block",
   "toc_window_display": false
  },
  "toc_position": {
   "height": "32px",
   "left": "9px",
   "right": "1379px",
   "top": "33px",
   "width": "212px"
  },
  "widgets": {
   "state": {
    "54e80d57f79b4bfc934a2b84cf5fe7ba": {
     "views": [
      {
       "cell_index": 47
      }
     ]
    },
    "5fb17a3592634a4fba98446dacd6db43": {
     "views": [
      {
       "cell_index": 11
      }
     ]
    },
    "6f6f6ce7b81743308b92966f225862a8": {
     "views": [
      {
       "cell_index": 34
      }
     ]
    }
   },
   "version": "1.2.0"
  }
 },
 "nbformat": 4,
 "nbformat_minor": 2
}
