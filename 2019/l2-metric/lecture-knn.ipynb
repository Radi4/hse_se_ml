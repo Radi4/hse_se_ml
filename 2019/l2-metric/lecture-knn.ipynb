{
 "cells": [
  {
   "cell_type": "markdown",
   "metadata": {
    "slideshow": {
     "slide_type": "slide"
    }
   },
   "source": [
    "<center><img src=\"img/logo_hse_black.jpg\"></center>\n",
    "\n",
    "<h1><center>Data Analysis</center></h1>\n",
    "<h3><center>Andrey Shestakov (<a href=\"mailto:avshestakov@hse.ru\">avshestakov@hse.ru</a>)</center></h3>\n",
    "<hr>\n",
    "<h2><center>Metric-based models<sup><a href=\"#fn1\" id=\"ref1\">1</a></sup></center></h2>\n",
    "<h3><center>Nearest Centroid, K-NN</center></h3>\n",
    "\n",
    "\n",
    "\n",
    "<sup id=\"fn1\">1. Some materials are taken from <a href=\"http://www.machinelearning.ru/wiki/index.php?title=%D0%9C%D0%B0%D1%82%D0%B5%D0%BC%D0%B0%D1%82%D0%B8%D1%87%D0%B5%D1%81%D0%BA%D0%B8%D0%B5_%D0%BC%D0%B5%D1%82%D0%BE%D0%B4%D1%8B_%D1%80%D0%B0%D1%81%D0%BF%D0%BE%D0%B7%D0%BD%D0%B0%D0%B2%D0%B0%D0%BD%D0%B8%D1%8F_%D0%BE%D0%B1%D1%80%D0%B0%D0%B7%D0%BE%D0%B2_%28%D0%BA%D1%83%D1%80%D1%81_%D0%BB%D0%B5%D0%BA%D1%86%D0%B8%D0%B9%2C_%D0%92.%D0%92.%D0%9A%D0%B8%D1%82%D0%BE%D0%B2%29\">machine learning course of Victor Kitov</a></sup>"
   ]
  },
  {
   "cell_type": "code",
   "execution_count": 1,
   "metadata": {
    "slideshow": {
     "slide_type": "notes"
    }
   },
   "outputs": [],
   "source": [
    "%matplotlib inline\n"
   ]
  },
  {
   "cell_type": "code",
   "execution_count": 2,
   "metadata": {
    "slideshow": {
     "slide_type": "notes"
    }
   },
   "outputs": [
    {
     "name": "stderr",
     "output_type": "stream",
     "text": [
      "/Users/andrey.shestakov/anaconda3/lib/python3.7/importlib/_bootstrap.py:219: RuntimeWarning: numpy.dtype size changed, may indicate binary incompatibility. Expected 96, got 88\n",
      "  return f(*args, **kwds)\n"
     ]
    }
   ],
   "source": [
    "import pandas as pd\n",
    "import numpy as np\n",
    "import matplotlib.pyplot as plt\n",
    "\n",
    "plt.style.use('seaborn-talk')\n",
    "plt.rcParams['figure.figsize'] = (12,8)\n",
    "\n",
    "# Для кириллицы на графиках\n",
    "font = {'family': 'Verdana',\n",
    "        'weight': 'normal'}\n",
    "plt.rc('font', **font)\n",
    "\n",
    "try:\n",
    "    from ipywidgets import interact, IntSlider, fixed, FloatSlider\n",
    "except ImportError:\n",
    "    print(u'Так надо')"
   ]
  },
  {
   "cell_type": "markdown",
   "metadata": {
    "slideshow": {
     "slide_type": "slide"
    }
   },
   "source": [
    "# Let's recall previous lecture\n",
    "\n",
    "* Machine learning algorithms reconstruct relationship between features $x$ and outputs $y$.\n",
    "* Design matrix $X=[\\mathbf{x}_{1},...\\mathbf{x}_{M}]^{T}$, $Y=[y_{1},...y_{M}]^{T}$.\n",
    "* Relationship is reconstructed by optimal function $\\widehat{y}=f_{\\widehat{\\theta}}(x)$ from function class $\\{f_{\\theta}(x),\\,\\theta\\in\\Theta\\}$.\n",
    "* Empirical risk appriximation\n",
    "    * Hold-out validation\n",
    "    * Cross-validation\n",
    "    * A/B testing"
   ]
  },
  {
   "cell_type": "markdown",
   "metadata": {
    "slideshow": {
     "slide_type": "slide"
    }
   },
   "source": [
    "## Overfitting - Underfitting\n",
    "\n",
    "<center><img src='img/overfit.png'></center>"
   ]
  },
  {
   "cell_type": "markdown",
   "metadata": {
    "slideshow": {
     "slide_type": "slide"
    }
   },
   "source": [
    "## Empirical risk\n",
    "\n",
    "* Want to minimize *expected risk*:\n",
    "$$\n",
    "\\mathit{\\int}\\int\\mathit{\\mathcal{L}(f_{\\theta}(\\mathbf{x}),y) \\cdot p(\\mathbf{x},y)d\\mathbf{x}dy\\to\\min_{\\theta}}\n",
    "$$"
   ]
  },
  {
   "cell_type": "markdown",
   "metadata": {
    "slideshow": {
     "slide_type": "fragment"
    }
   },
   "source": [
    "* In fact we have only $X$,$Y$ (Known set) and $X'$ (Test set)\n",
    "\n",
    "* Can minimize *empirical risk*\n",
    "$$\n",
    "L(\\theta|X,Y)=\\frac{1}{N}\\sum_{n=1}^{N}\\mathcal{L}(f_{\\theta}(\\mathbf{x}_{n}),\\,y_{n})\n",
    "$$\n",
    "\n",
    "* Method of empirical risk minimization:\n",
    "$$\n",
    "\\widehat{\\theta}=\\arg\\min_{\\theta}L(\\theta|X,Y)\n",
    "$$\n"
   ]
  },
  {
   "cell_type": "markdown",
   "metadata": {
    "slideshow": {
     "slide_type": "fragment"
    }
   },
   "source": [
    "* How to get realistic estimate of $L(\\widehat{\\theta}|X',Y')$?\n",
    "    * separate **validation set**\n",
    "    * **cross-validation**\n",
    "    * **leave-one-out** method"
   ]
  },
  {
   "cell_type": "markdown",
   "metadata": {
    "slideshow": {
     "slide_type": "subslide"
    }
   },
   "source": [
    "# Separate validation set\n",
    "\n",
    "* Known sample $X,Y$: $(\\mathbf{x}_{1},y_{1}),...(\\mathbf{x}_{M},y_{M})$\n",
    "* Test sample $X',Y'$: $(\\mathbf{x}_{1}',y_{1}'),...(\\mathbf{x}_{K}',y_{K}')$\n",
    "\n",
    "<center><img src='img/train_test.png'></center>"
   ]
  },
  {
   "cell_type": "markdown",
   "metadata": {
    "slideshow": {
     "slide_type": "subslide"
    }
   },
   "source": [
    "# Separate validation set\n",
    "Divide known set randomly or randomly with stratification:\n",
    "\n",
    "<center><img src='img/train_validation_test.png'></center>"
   ]
  },
  {
   "cell_type": "markdown",
   "metadata": {
    "slideshow": {
     "slide_type": "slide"
    }
   },
   "source": [
    "## Cross-validation"
   ]
  },
  {
   "cell_type": "markdown",
   "metadata": {
    "slideshow": {
     "slide_type": "subslide"
    }
   },
   "source": [
    "\n",
    "### 4-fold cross-validation example\n",
    "\n",
    "<center><img src='img/cross_validation.png'></center>\n",
    "\n",
    "Divide training set into K parts, referred as **folds** (here $K=4$).\n",
    "\n",
    "Variants:\n",
    "* randomly\n",
    "* randomly with stratification (w.r.t target value or feature value)\n",
    "* randomly with respect to time domain\n",
    "* etc"
   ]
  },
  {
   "cell_type": "markdown",
   "metadata": {
    "slideshow": {
     "slide_type": "subslide"
    }
   },
   "source": [
    "### 4-fold cross-validation example\n",
    "\n",
    "<center><img src='img/cross_validation1.png'></center>\n",
    "Use folds 1,2,3 for model estimation and fold 4 for model evaluation."
   ]
  },
  {
   "cell_type": "markdown",
   "metadata": {
    "slideshow": {
     "slide_type": "subslide"
    }
   },
   "source": [
    "### 4-fold cross-validation example\n",
    "\n",
    "<center><img src='img/cross_validation2.png'></center>\n"
   ]
  },
  {
   "cell_type": "markdown",
   "metadata": {
    "slideshow": {
     "slide_type": "subslide"
    }
   },
   "source": [
    "### 4-fold cross-validation example\n",
    "\n",
    "<center><img src='img/cross_validation3.png'></center>\n"
   ]
  },
  {
   "cell_type": "markdown",
   "metadata": {
    "slideshow": {
     "slide_type": "subslide"
    }
   },
   "source": [
    "### 4-fold cross-validation example\n",
    "\n",
    "<center><img src='img/cross_validation4.png'></center>"
   ]
  },
  {
   "cell_type": "markdown",
   "metadata": {
    "slideshow": {
     "slide_type": "subslide"
    }
   },
   "source": [
    "### 4-fold cross-validation example\n",
    "\n",
    "* Denote \n",
    "    * $k(n)$ - fold to which observation $(\\mathbf{x}_{n},y_{n})$ belongs $n\\in I_{k}$.\n",
    "    * $\\widehat{\\theta}^{-k}$ - parameter estimation using observations from all folds except fold $k$."
   ]
  },
  {
   "cell_type": "markdown",
   "metadata": {
    "slideshow": {
     "slide_type": "fragment"
    }
   },
   "source": [
    "**Cross-validation empirical risk estimation**\n",
    "\n",
    "$$\\widehat{L}_{total}=\\frac{1}{N}\\sum_{n=1}^{N}\\mathcal{L}(f_{\\widehat{\\theta}^{-k(n)}}(x_{n}),\\,y_{n})$$\n"
   ]
  },
  {
   "cell_type": "markdown",
   "metadata": {
    "slideshow": {
     "slide_type": "fragment"
    }
   },
   "source": [
    "* For $K$-fold CV we have: \n",
    "    * $K$ parameters $\\widehat{\\theta}^{-1},...\\widehat{\\theta}^{-K}$\n",
    "    * $K$ models $f_{\\widehat{\\theta}^{-1}}(\\mathbf{x}),...f_{\\widehat{\\theta}^{-K}}(\\mathbf{x}).$\n",
    "    * $K$ estimations of empirical risk: $\\widehat{L}_{k}=\\frac{1}{\\left|I_{k}\\right|}\\sum_{n\\in I_{k}}\\mathcal{L}(f_{\\widehat{\\theta}^{-k}}(\\mathbf{x}_{n}),\\,y_{n}),\\,k=1,2,...K.$\n",
    "\n",
    "        * can estimate variance & use statistics!"
   ]
  },
  {
   "cell_type": "markdown",
   "metadata": {
    "slideshow": {
     "slide_type": "subslide"
    }
   },
   "source": [
    "## Comments on cross-validation\n",
    "\n",
    "* When number of folds $K$ is equal to number of objects $N$, this is called **leave-one-out method**.\n",
    "* Cross-validation uses the i.i.d.(independent and identically distributed) property of observations\n",
    "* Stratification by target $y$ helps for imbalanced/rare classes.\n"
   ]
  },
  {
   "cell_type": "markdown",
   "metadata": {
    "slideshow": {
     "slide_type": "slide"
    }
   },
   "source": [
    "# A/B testing"
   ]
  },
  {
   "cell_type": "markdown",
   "metadata": {
    "slideshow": {
     "slide_type": "subslide"
    }
   },
   "source": [
    "## A/B testing\n",
    "\n",
    "* Observe test set **after the models were built**.\n",
    "* A/B testing procedure:\n",
    "    1. divide test objects randomly into two groups - A and B.\n",
    "    2. apply base model to A\n",
    "    3. apply modified model to B\n",
    "    4. compare final results\\pause\n",
    "    "
   ]
  },
  {
   "cell_type": "markdown",
   "metadata": {
    "slideshow": {
     "slide_type": "slide"
    }
   },
   "source": [
    "# Modelling Pipelines"
   ]
  },
  {
   "cell_type": "markdown",
   "metadata": {
    "slideshow": {
     "slide_type": "subslide"
    }
   },
   "source": [
    "## General Modelling Pipeline\n",
    "\n",
    "<center><img src='img/modeling pipeline.png' width=400></center>\n",
    "If evaluation gives poor results we may return to each of preceding\n",
    "stages."
   ]
  },
  {
   "cell_type": "markdown",
   "metadata": {
    "slideshow": {
     "slide_type": "subslide"
    }
   },
   "source": [
    "## CRISP DM\n",
    "\n",
    "<center><img src='img/crisp.png' width=700></center>"
   ]
  },
  {
   "cell_type": "markdown",
   "metadata": {
    "slideshow": {
     "slide_type": "slide"
    }
   },
   "source": [
    "# Metric-based models"
   ]
  },
  {
   "cell_type": "markdown",
   "metadata": {
    "slideshow": {
     "slide_type": "subslide"
    }
   },
   "source": [
    "# Cluster hypothesis (Compactness hypothesis)\n",
    "\n",
    "* the more $x$'s features are similar to ones of $x_i$'s, the more likely $\\hat{y}=y_i$"
   ]
  },
  {
   "cell_type": "markdown",
   "metadata": {
    "slideshow": {
     "slide_type": "subslide"
    }
   },
   "source": [
    "## Cluster hypothesis examples\n",
    "<center><img src='http://ichef-1.bbci.co.uk/news/624/cpsprodpb/13ED9/production/_87552618_fourupcomp.jpg' width=500></center>\n",
    "\n",
    "* Objects: Families, households\n",
    "* Featuers: address, zip code, nearest marketplace... $\\rightarrow$ geo-coordinates `(lat, lon)`\n",
    "* Target feature: race (classification)"
   ]
  },
  {
   "cell_type": "markdown",
   "metadata": {
    "slideshow": {
     "slide_type": "subslide"
    }
   },
   "source": [
    "## Cluster hypothesis examples\n",
    "<center><img src='img/california_house.png' width=500></center>\n",
    "\n",
    "* Objects: Houses\n",
    "* Features: address... $\\rightarrow$ geo-coordinates `(lat, lon)`\n",
    "* Target feature: house price (regression)"
   ]
  },
  {
   "cell_type": "markdown",
   "metadata": {
    "slideshow": {
     "slide_type": "subslide"
    }
   },
   "source": [
    "<center><img src='img/dna_seq.png' width=900></center>\n",
    "\n",
    "* Objects: DNA strings\n",
    "* Features: ??\n",
    "* Target features: Gene function (classification)"
   ]
  },
  {
   "cell_type": "markdown",
   "metadata": {
    "slideshow": {
     "slide_type": "subslide"
    }
   },
   "source": [
    "<hr>\n",
    "<center><img src='img/text_classify.png' width=600></center>\n",
    "\n",
    "* Objects: Documents, texts, articles\n",
    "* Features: Word counts\n",
    "* Target: Document category (classification)"
   ]
  },
  {
   "cell_type": "markdown",
   "metadata": {
    "slideshow": {
     "slide_type": "subslide"
    }
   },
   "source": [
    "# Similarity (distance) measures"
   ]
  },
  {
   "cell_type": "markdown",
   "metadata": {
    "slideshow": {
     "slide_type": "subslide"
    }
   },
   "source": [
    "## Similarity measures\n",
    "\n",
    "* How do we find similar objects?\n",
    "* Utilize some similiarity measure (could be metric)\n",
    "\n",
    "### Most popular are\n",
    "\n",
    "$$ \\rho(x_i, x_j) = \\sqrt{\\sum\\limits_{d=1}^{D}(x^d_i - x^d_j)^2} \\text{: euclidean distance} $$\n",
    "\n",
    "$$ \\rho(x_i, x_j) = \\sum\\limits_{d=1}^{D}|x^d_i - x^d_j| \\text{: manhattan distance} $$\n",
    "\n",
    "$$ \\rho(x_i, x_j) = 1 - \\frac{\\langle x_i,x_j \\rangle}{||x_i||_2\\cdot||x_j||_2} \\text{: cosine distance} $$\n",
    "\n"
   ]
  },
  {
   "cell_type": "markdown",
   "metadata": {
    "slideshow": {
     "slide_type": "subslide"
    }
   },
   "source": [
    "## Illustration\n",
    "\n",
    "<center><img src='./img/dist-example.png'></center>"
   ]
  },
  {
   "cell_type": "markdown",
   "metadata": {
    "slideshow": {
     "slide_type": "subslide"
    }
   },
   "source": [
    "### String Similarity\n",
    "* Edit distance\n",
    "    * Number of insertions, replacements and deletions required to modify string $S_1$ to string $S_2$\n",
    "    \n",
    "\n",
    "* Denote $D( i , j )$ as edit distance between substrings $S_1[:i]$ and $S_2[:j]$.\n",
    "* Use dynamic programming approach to compute $\\rho(S_1, S_2):$\n",
    "\n",
    "\\begin{equation}\n",
    " D ( i , j ) = \n",
    " \\begin{cases} \n",
    " {\\begin{array}{llcl}0,&&&i=0,\\ j=0\\\\i,&&&j=0,\\ i>0\\\\j,&&&i=0,\\ j>0\\\\\\min\\{\\\\&D(i,j-1)+1,\\\\&D(i-1,j)+1,&&j>0,\\ i>0\\\\&D(i-1,j-1)+{\\rm {m}}(S_{1}[i],S_{2}[j])\\\\\\}\\end{array}},\n",
    " \\end{cases} \n",
    "\\end{equation}\n",
    "where $m(a,b) = 0$, if $a = b$ and $1$ otherwise\n",
    "* [Jaro–Winkler](https://en.wikipedia.org/wiki/Jaro%E2%80%93Winkler_distance) distance\n",
    "* ..."
   ]
  },
  {
   "cell_type": "markdown",
   "metadata": {
    "slideshow": {
     "slide_type": "subslide"
    }
   },
   "source": [
    "## Edit distance example\n",
    "\n",
    "<center><img src='img/levinstein_dist.png' width=400></center>"
   ]
  },
  {
   "cell_type": "markdown",
   "metadata": {
    "slideshow": {
     "slide_type": "subslide"
    }
   },
   "source": [
    "### Similarity between sets\n",
    "* Suppose thet objects are represented with sets\n",
    "    * Client $a$: {french fries, big-mac, coffe, muffin}\n",
    "    * Client $b$: {french fries, cheese sause, cheeseburger, coffe, cherry pie}\n",
    "* Jaccard distance:\n",
    "    $$\\rho(a,b) = 1 - \\frac{|a \\cap b|}{|a \\cup b|}$$"
   ]
  },
  {
   "cell_type": "markdown",
   "metadata": {
    "slideshow": {
     "slide_type": "slide"
    }
   },
   "source": [
    "# Nearest Centroid"
   ]
  },
  {
   "cell_type": "markdown",
   "metadata": {
    "slideshow": {
     "slide_type": "subslide"
    }
   },
   "source": [
    "## Nearest centroids algorithm\n",
    "* Consider training sample $\\left(x_{1},y_{1}\\right),...\\left(x_{N},y_{N}\\right)$\n",
    "with \n",
    "    * $N_{1}$ representatives of 1st class\n",
    "    * $N_{2}$ representatives of 2nd class\n",
    "    * etc.\n",
    "\n",
    "* **Training:**\n",
    "Calculate centroids for each class $c=1,2,...C:$ \n",
    "$$\n",
    "\\mu_{c}=\\frac{1}{N_{1}}\\sum_{n=1}^{N}x_{n}\\mathbb{I}[y_{n}=c]\n",
    "$$\n",
    "\n",
    "* **Classification:**\n",
    "    * For object $x$ find the most closest centroid:\n",
    "    $$\n",
    "    c=\\arg\\min_{i}\\rho(x,\\mu_{i})\n",
    "    $$\n",
    "    * Associate $x$ the class of the most close centroid:\n",
    "    $$\n",
    "    \\widehat{y}(x)=c\n",
    "    $$"
   ]
  },
  {
   "cell_type": "code",
   "execution_count": 3,
   "metadata": {
    "slideshow": {
     "slide_type": "notes"
    }
   },
   "outputs": [],
   "source": [
    "from sklearn.datasets import make_blobs\n",
    "from sklearn.neighbors import NearestCentroid"
   ]
  },
  {
   "cell_type": "code",
   "execution_count": 4,
   "metadata": {
    "slideshow": {
     "slide_type": "notes"
    }
   },
   "outputs": [],
   "source": [
    "def plot_centroid_class():\n",
    "    \n",
    "    X_blobs, y_blobs = make_blobs(n_samples=300, n_features=2, centers=4, cluster_std=1.4, random_state=123)\n",
    "    \n",
    "    X_centers = np.zeros((4, 2))\n",
    "    for i in range(4):\n",
    "        X_centers[i,:] = X_blobs[y_blobs==i,:].mean(axis=0)\n",
    "    \n",
    "    plt.scatter(X_blobs[:,0], X_blobs[:,1], c=y_blobs)\n",
    "    plt.xlabel('$x_1$')\n",
    "    plt.ylabel('$x_2$')\n",
    "    \n",
    "    knn = NearestCentroid()\n",
    "    knn.fit(X_blobs, y_blobs)\n",
    "    \n",
    "    x_range = np.linspace(X_blobs.min(), X_blobs.max(), 500)\n",
    "    # ОДЗ значений признаков\n",
    "\n",
    "    xx1, xx2 = np.meshgrid(x_range, x_range)\n",
    "    \n",
    "    Y = knn.predict(np.c_[xx1.ravel(), xx2.ravel()])\n",
    "    Y = Y.reshape(xx1.shape)\n",
    "\n",
    "    plt.contourf(xx1, xx2, Y, alpha=0.3)\n",
    "    plt.scatter(X_blobs[:,0], X_blobs[:,1],c=y_blobs, cmap=plt.cm.Spectral_r)\n",
    "    plt.scatter(X_centers[:, 0], X_centers[:, 1], marker='*', s=400)\n",
    "    plt.axis('equal')\n",
    "    plt.show()"
   ]
  },
  {
   "cell_type": "markdown",
   "metadata": {
    "slideshow": {
     "slide_type": "subslide"
    }
   },
   "source": [
    "## Decision boundaries for 4-class nearest centroids}"
   ]
  },
  {
   "cell_type": "code",
   "execution_count": 5,
   "metadata": {
    "slideshow": {
     "slide_type": "fragment"
    }
   },
   "outputs": [
    {
     "data": {
      "application/vnd.jupyter.widget-view+json": {
       "model_id": "36c4bc75de7e4167919306017f6fb301",
       "version_major": 2,
       "version_minor": 0
      },
      "text/plain": [
       "interactive(children=(Output(),), _dom_classes=('widget-interact',))"
      ]
     },
     "metadata": {},
     "output_type": "display_data"
    },
    {
     "data": {
      "text/plain": [
       "<function __main__.plot_centroid_class>"
      ]
     },
     "execution_count": 5,
     "metadata": {},
     "output_type": "execute_result"
    }
   ],
   "source": [
    "interact(plot_centroid_class) "
   ]
  },
  {
   "cell_type": "markdown",
   "metadata": {
    "slideshow": {
     "slide_type": "subslide"
    }
   },
   "source": [
    "## Questions\n",
    "\n",
    "* What are discriminant functions $g_{c}(x)$ for nearest centroid?\n",
    "* What is the complexity for:\n",
    "    * training? \n",
    "    * prediction?\n",
    "    \n",
    "    \n",
    "* What would be the shape of class separating boundary?\n",
    "* Can we use similar ideas for regression?\n",
    "* Is it always possible to have centroids?"
   ]
  },
  {
   "cell_type": "markdown",
   "metadata": {
    "slideshow": {
     "slide_type": "slide"
    }
   },
   "source": [
    "# K-nearest neighbours (KNN)"
   ]
  },
  {
   "cell_type": "markdown",
   "metadata": {
    "slideshow": {
     "slide_type": "subslide"
    }
   },
   "source": [
    "## K-nearest neighbours algorithm\n",
    "\n",
    "**Classification:**\n",
    "* Find $k$ closest objects to the predicted object $x$ in the training~set.\n",
    "* Associate $x$ the most frequent class among its $k$ neighbours.\n",
    "<center><img src=\"img/K-NN classification.png\"></center>\n"
   ]
  },
  {
   "cell_type": "code",
   "execution_count": 6,
   "metadata": {
    "slideshow": {
     "slide_type": "notes"
    }
   },
   "outputs": [],
   "source": [
    "from sklearn.neighbors import KNeighborsClassifier\n",
    "from sklearn.neighbors import KNeighborsRegressor\n",
    "from sklearn.linear_model import LinearRegression"
   ]
  },
  {
   "cell_type": "code",
   "execution_count": 7,
   "metadata": {
    "slideshow": {
     "slide_type": "notes"
    }
   },
   "outputs": [],
   "source": [
    "from sklearn.datasets import make_moons\n",
    "X_moons, y_moons = make_moons(noise=0.3, random_state=1234)"
   ]
  },
  {
   "cell_type": "code",
   "execution_count": 8,
   "metadata": {
    "slideshow": {
     "slide_type": "subslide"
    }
   },
   "outputs": [
    {
     "data": {
      "text/plain": [
       "Text(0,0.5,'$x_2$')"
      ]
     },
     "execution_count": 8,
     "metadata": {},
     "output_type": "execute_result"
    },
    {
     "data": {
      "image/png": "[encoded data removed]",
      "text/plain": [
       "<Figure size 864x576 with 1 Axes>"
      ]
     },
     "metadata": {
      "needs_background": "light"
     },
     "output_type": "display_data"
    }
   ],
   "source": [
    "plt.scatter(X_moons[:,0], X_moons[:,1], c=y_moons, cmap=plt.cm.Spectral)\n",
    "plt.xlabel('$x_1$')\n",
    "plt.ylabel('$x_2$')"
   ]
  },
  {
   "cell_type": "code",
   "execution_count": 9,
   "metadata": {
    "slideshow": {
     "slide_type": "notes"
    }
   },
   "outputs": [],
   "source": [
    "def plot_knn_class(k=1, prob=False):\n",
    "    \n",
    "    plt.scatter(X_moons[:,0], X_moons[:,1], c=y_moons)\n",
    "    plt.xlabel('$x_1$')\n",
    "    plt.ylabel('$x_2$')\n",
    "    \n",
    "    knn = KNeighborsClassifier(n_neighbors=k, metric='minkowski', p=2)\n",
    "    knn.fit(X_moons, y_moons)\n",
    "    \n",
    "    x_range = np.linspace(X_moons.min(), X_moons.max(), 500)\n",
    "    # ОДЗ значений признаков\n",
    "\n",
    "    xx1, xx2 = np.meshgrid(x_range, x_range)\n",
    "    # всевозможные попарные значения признаков\n",
    "    if prob:\n",
    "        Y = knn.predict_proba(np.c_[xx1.ravel(), xx2.ravel()])[:,1]\n",
    "    else:\n",
    "        Y = knn.predict(np.c_[xx1.ravel(), xx2.ravel()])\n",
    "    Y = Y.reshape(xx1.shape)\n",
    "\n",
    "    plt.contourf(xx1, xx2, Y, alpha=0.3)\n",
    "    plt.scatter(X_moons[:,0], X_moons[:,1], c=y_moons, cmap=plt.cm.Spectral)\n",
    "    \n",
    "    plt.show()"
   ]
  },
  {
   "cell_type": "code",
   "execution_count": 10,
   "metadata": {
    "slideshow": {
     "slide_type": "subslide"
    }
   },
   "outputs": [
    {
     "data": {
      "application/vnd.jupyter.widget-view+json": {
       "model_id": "0408a361642146f2b5a64d2e8d7b85e6",
       "version_major": 2,
       "version_minor": 0
      },
      "text/plain": [
       "interactive(children=(IntSlider(value=1, description='k', max=10, min=1), Checkbox(value=False, description='p…"
      ]
     },
     "metadata": {},
     "output_type": "display_data"
    },
    {
     "data": {
      "text/plain": [
       "<function __main__.plot_knn_class>"
      ]
     },
     "execution_count": 10,
     "metadata": {},
     "output_type": "execute_result"
    }
   ],
   "source": [
    "interact(plot_knn_class, k=IntSlider(min=1, max=10, value=1))"
   ]
  },
  {
   "cell_type": "markdown",
   "metadata": {
    "slideshow": {
     "slide_type": "subslide"
    }
   },
   "source": [
    "## K-nearest neighbours algorithm\n",
    "\n",
    "**Regression:**\n",
    "* Find $k$ closest objects to the predicted object $x$ in the training~set.\n",
    "* Associate $x$ average output of its $k$ neighbours.\n",
    "<center><img src=\"img/K-NN regression.png\"></center>"
   ]
  },
  {
   "cell_type": "code",
   "execution_count": 11,
   "metadata": {
    "slideshow": {
     "slide_type": "notes"
    }
   },
   "outputs": [],
   "source": [
    "x_true = np.arange(-5, 5, 0.2)\n",
    "x = x_true + np.random.rand(x_true.shape[0]) - 0.5\n",
    "y_true = np.sin(x_true)+x_true/3\n",
    "y = y_true + np.random.rand(x_true.shape[0]) - 0.5"
   ]
  },
  {
   "cell_type": "code",
   "execution_count": 12,
   "metadata": {
    "slideshow": {
     "slide_type": "subslide"
    }
   },
   "outputs": [
    {
     "data": {
      "text/plain": [
       "<matplotlib.legend.Legend at 0x1096a32b0>"
      ]
     },
     "execution_count": 12,
     "metadata": {},
     "output_type": "execute_result"
    },
    {
     "data": {
      "image/png": "[encoded data removed]",
      "text/plain": [
       "<Figure size 864x576 with 1 Axes>"
      ]
     },
     "metadata": {
      "needs_background": "light"
     },
     "output_type": "display_data"
    }
   ],
   "source": [
    "plt.plot(x_true, y_true, c='g', label='$f(x)$')\n",
    "plt.scatter(x, y, label='actual data')\n",
    "plt.xlabel('x')\n",
    "plt.ylabel('y')\n",
    "plt.legend(loc=2)"
   ]
  },
  {
   "cell_type": "code",
   "execution_count": 13,
   "metadata": {
    "slideshow": {
     "slide_type": "notes"
    }
   },
   "outputs": [],
   "source": [
    "def plot_linreg():\n",
    "    lin_reg = LinearRegression()\n",
    "    lin_reg.fit(x.reshape(-1,1), y)\n",
    "    y_hat = lin_reg.predict(x_true.reshape(-1,1))\n",
    "    \n",
    "    plt.plot(x_true, y_true, c='g', label='$f(x)$')\n",
    "    plt.scatter(x, y, label='actual data')\n",
    "    plt.xlabel('x')\n",
    "    plt.ylabel('y')\n",
    "    plt.plot(x_true, y_hat, c='r', label='linear regression')\n",
    "    plt.legend(loc=2)"
   ]
  },
  {
   "cell_type": "code",
   "execution_count": 14,
   "metadata": {
    "slideshow": {
     "slide_type": "subslide"
    }
   },
   "outputs": [
    {
     "data": {
      "image/png": "[encoded data removed]",
      "text/plain": [
       "<Figure size 864x576 with 1 Axes>"
      ]
     },
     "metadata": {
      "needs_background": "light"
     },
     "output_type": "display_data"
    }
   ],
   "source": [
    "plot_linreg()"
   ]
  },
  {
   "cell_type": "code",
   "execution_count": 15,
   "metadata": {
    "slideshow": {
     "slide_type": "notes"
    }
   },
   "outputs": [],
   "source": [
    "def plot_knn(k=1):\n",
    "    knn = KNeighborsRegressor(n_neighbors=k)\n",
    "    knn.fit(x.reshape(-1,1), y)\n",
    "    y_hat = knn.predict(x_true.reshape(-1,1))\n",
    "    \n",
    "    plt.plot(x_true, y_true, c='g', label='$f(x)$')\n",
    "    plt.scatter(x, y, label='actual data')\n",
    "    plt.xlabel('x')\n",
    "    plt.ylabel('y')\n",
    "    plt.plot(x_true, y_hat, c='r', label='knn, $k=%d$' % k)\n",
    "    plt.legend(loc=2)\n",
    "    plt.show()\n",
    "    \n",
    "    return None"
   ]
  },
  {
   "cell_type": "code",
   "execution_count": 16,
   "metadata": {
    "slideshow": {
     "slide_type": "subslide"
    }
   },
   "outputs": [
    {
     "data": {
      "application/vnd.jupyter.widget-view+json": {
       "model_id": "24479b623a844fac9dc10bc07f4c5720",
       "version_major": 2,
       "version_minor": 0
      },
      "text/plain": [
       "interactive(children=(IntSlider(value=1, description='k', max=10, min=1), Output()), _dom_classes=('widget-int…"
      ]
     },
     "metadata": {},
     "output_type": "display_data"
    },
    {
     "data": {
      "text/plain": [
       "<function __main__.plot_knn>"
      ]
     },
     "execution_count": 16,
     "metadata": {},
     "output_type": "execute_result"
    }
   ],
   "source": [
    "interact(plot_knn, k=IntSlider(min=1, max=10, value=1))"
   ]
  },
  {
   "cell_type": "markdown",
   "metadata": {
    "slideshow": {
     "slide_type": "subslide"
    }
   },
   "source": [
    "## Comments\n",
    "* K nearest neighbours algorithm is abbreviated as K-NN.\n",
    "* $k=1$: nearest neighbour algorithm\n",
    "* Base assumption of the method:\n",
    "     * similar objects yield similar outputs\n",
    "\n",
    "\n"
   ]
  },
  {
   "cell_type": "markdown",
   "metadata": {
    "slideshow": {
     "slide_type": "fragment"
    }
   },
   "source": [
    "* *what is simpler - to train K-NN model or to apply it?*"
   ]
  },
  {
   "cell_type": "markdown",
   "metadata": {
    "slideshow": {
     "slide_type": "subslide"
    }
   },
   "source": [
    "## Dealing with similar rank\n",
    " \n",
    "\n",
    "When several classes get the same rank, we can assign to class:"
   ]
  },
  {
   "cell_type": "markdown",
   "metadata": {
    "slideshow": {
     "slide_type": "fragment"
    }
   },
   "source": [
    "* with higher prior probability\n",
    "* having closest representative\n",
    "* having closest mean of representatives (among nearest neighbours)\n",
    "* which is more compact, having nearest most distant representative "
   ]
  },
  {
   "cell_type": "markdown",
   "metadata": {
    "slideshow": {
     "slide_type": "subslide"
    }
   },
   "source": [
    "## Parameters and modifications\n",
    "\n",
    "* **Parameters:**"
   ]
  },
  {
   "cell_type": "markdown",
   "metadata": {
    "slideshow": {
     "slide_type": "fragment"
    }
   },
   "source": [
    "    * None\n",
    "\n",
    "* **Hyperparameters**\n",
    "    * the number of nearest neighbours $K$\n",
    "    * distance metric $\\rho(x,x')$\n"
   ]
  },
  {
   "cell_type": "markdown",
   "metadata": {
    "slideshow": {
     "slide_type": "fragment"
    }
   },
   "source": [
    "* **Modifications:**\n",
    "    * forecast rejection option (propose a rule, under what conditions to apply rejection in a) classification\n",
    "b) regression)\n",
    "    * variable $K$ (propose a method of K-NN with adaptive variable K in different parts\n",
    "of the feature space)"
   ]
  },
  {
   "cell_type": "markdown",
   "metadata": {
    "slideshow": {
     "slide_type": "subslide"
    }
   },
   "source": [
    "## Properties\n",
    "\n",
    "* **Advantages:**\n",
    "\n",
    "    * only similarity between objects is needed, not exact feature values.\n",
    "        * so it may be applied to objects with arbitrary complex feature description   \n",
    "    * simple to implement\n",
    "    * interpretable (kind of.. case based reasoning)\n",
    "    * does not need training\n",
    "        * may be applied in online scenarios\n",
    "        * cross-validation may be replaced with LOO."
   ]
  },
  {
   "cell_type": "markdown",
   "metadata": {
    "slideshow": {
     "slide_type": "fragment"
    }
   },
   "source": [
    "* **Disadvantages:**\n",
    "    * slow classification with complexity $O(NDK)$\n",
    "    * accuracy deteriorates with the increase of feature space dimensionality (curse of dimentionality)"
   ]
  },
  {
   "cell_type": "markdown",
   "metadata": {
    "slideshow": {
     "slide_type": "slide"
    }
   },
   "source": [
    "# Special properties"
   ]
  },
  {
   "cell_type": "markdown",
   "metadata": {
    "slideshow": {
     "slide_type": "subslide"
    }
   },
   "source": [
    "## Normalization of features\n",
    "\n",
    "* Feature scaling affects predictions of K-NN?"
   ]
  },
  {
   "cell_type": "markdown",
   "metadata": {
    "slideshow": {
     "slide_type": "subslide"
    }
   },
   "source": [
    "## Normalization of features\n",
    "\n",
    "* Feature scaling affects predictions of K-NN?\n",
    "    * sure it does! Need to normalize\n",
    "* Equal scaling - equal impact of features\n",
    "* Non-equal scaling - non-equal impact of features\n",
    "* Typical normalizations:\n",
    "    * z-scoring (autoscaling): $$x_{j}'=\\frac{x_{j}-\\mu_{j}}{\\sigma_{j}}$$ \n",
    "    * range scaling: $$x_{j}'=\\frac{x_{j}-L_{j}}{U_{j}-L_{j}}$$\n",
    "\n",
    "where $\\mu_{j},\\,\\sigma_{j},\\,L_{j},\\,U_{j}$ are mean value, standard\n",
    "deviation, minimum and maximum value of the $j$-th feature."
   ]
  },
  {
   "cell_type": "markdown",
   "metadata": {
    "slideshow": {
     "slide_type": "subslide"
    }
   },
   "source": [
    "## The curse of dimensionality\n",
    "\n",
    "* Phenomenon that occures in various fields and have varoius consequences (mainly negative)\n",
    "* The curse of dimensionality: with growing $D$ data distribution becomes\n",
    "sparse and insufficient."
   ]
  },
  {
   "cell_type": "markdown",
   "metadata": {
    "slideshow": {
     "slide_type": "subslide"
    }
   },
   "source": [
    "## The curse of dimensionality\n",
    "<center><img src='img/curse_2.png' width=1200></center>"
   ]
  },
  {
   "cell_type": "markdown",
   "metadata": {
    "slideshow": {
     "slide_type": "fragment"
    }
   },
   "source": [
    "* At what rate should training size grow with increase of $D$ to compensate curse of dimensionality?"
   ]
  },
  {
   "cell_type": "markdown",
   "metadata": {
    "slideshow": {
     "slide_type": "subslide"
    }
   },
   "source": [
    "## The curse of dimensionality\n",
    "\n",
    "<style type=\"text/css\">\n",
    ".tg  {border-collapse:collapse;border-spacing:0;}\n",
    ".tg td{font-family:Arial, sans-serif;font-size:14px;padding:10px 5px;border-style:solid;border-width:1px;overflow:hidden;word-break:normal;}\n",
    ".tg th{font-family:Arial, sans-serif;font-size:14px;font-weight:normal;padding:10px 5px;border-style:solid;border-width:1px;overflow:hidden;word-break:normal;}\n",
    "</style>\n",
    "<table class=\"tg\">\n",
    "  <tr>\n",
    "    <th class=\"tg-031e\">$D=2$<img src='https://jeremykun.files.wordpress.com/2016/01/2d-distances.png' width=400></th>\n",
    "    <th class=\"tg-031e\">$D=2 \\dots 100$<img src='https://jeremykun.files.wordpress.com/2016/01/distances-animation.gif' width=400></th>\n",
    "  </tr>\n",
    "</table>\n",
    "\n",
    "$$ \\lim_{D \\rightarrow \\infty} \\frac{\\text{dist}_{max} - \\text{dist}_{min}}{\\text{dist}_{min}} = 0$$"
   ]
  },
  {
   "cell_type": "markdown",
   "metadata": {
    "slideshow": {
     "slide_type": "subslide"
    }
   },
   "source": [
    "## Curse of dimensionality\n",
    "\n",
    "* Case of K-nearest neighbours:\n",
    "    * assumption: objects are distributed uniformly in unit feature space\n",
    "    * ball of radius $R$ has volume $V(R)=CR^{D}$, where $C=\\frac{\\pi^{D/2}}{\\Gamma(D/2+1)}$.\n",
    "    * ratio of volumes of unit cube and included ball:\n",
    "$$\n",
    "\\frac{V(0.5)}{1}=\\frac{0.5^{D}\\pi^{D/2}}{(D/2)!}\\stackrel{D\\to\\infty}{\\longrightarrow}0\n",
    "$$\n",
    "    * most of volume concentrates on the corners of the cube\n",
    "    * nearest neighbours stop being close by distance\n",
    "* Good news: in real tasks the true dimensionality of the data is often less than $D$ and objects belong to the manifold with smaller dimensionality."
   ]
  },
  {
   "cell_type": "markdown",
   "metadata": {
    "slideshow": {
     "slide_type": "subslide"
    }
   },
   "source": [
    "# Weighted account"
   ]
  },
  {
   "cell_type": "markdown",
   "metadata": {
    "slideshow": {
     "slide_type": "subslide"
    }
   },
   "source": [
    "## Equal voting\n",
    "\n",
    "* Consider for object $x$: \n",
    "    * $x_{i_{1}}$most close neigbour, $x_{i_{2}}$ - second most close neighbour, etc.\n",
    "    $$\n",
    "    \\rho(x,x_{i_{1}})\\le\\rho(x,x_{i_{2}})\\le...\\le\\rho(x,x_{i_{N}})\n",
    "    $$\n",
    "\n",
    "* Classification:\n",
    "$$\\begin{align*}\n",
    "g_{c}(x) & =\\sum_{k=1}^{K}\\mathbb{I}[y_{i_{k}}=c],\\quad c=1,2,...C.\\\\\n",
    "\\widehat{y}(x) & =\\arg\\max_{c}g_{c}(x)\n",
    "\\end{align*}\n",
    "$$\n",
    "\n",
    "* Regression:\n",
    "$$\n",
    "\\widehat{y}(x)=\\frac{1}{K}\\sum_{k=1}^{K}y_{i_{k}}\n",
    "$$"
   ]
  },
  {
   "cell_type": "markdown",
   "metadata": {
    "slideshow": {
     "slide_type": "subslide"
    }
   },
   "source": [
    "## Weighted voting\n",
    "* Weighted classification:\n",
    "$$\\begin{align*}\n",
    "g_{c}(x) & =\\sum_{k=1}^{K}w(k,\\,\\rho(x,x_{i_{k}}))\\mathbb{I}[y_{i_{k}}=c],\\quad c=1,2,...C.\\\\\n",
    "\\widehat{y}(x) & =\\arg\\max_{c}g_{c}(x)\n",
    "\\end{align*}\n",
    "$$\n",
    "\n",
    "* Weighted regression:\n",
    "$$\n",
    "\\widehat{y}(x)=\\frac{\\sum_{k=1}^{K}w(k,\\,\\rho(x,x_{i_{k}}))y_{i_{k}}}{\\sum_{k=1}^{K}w(k,\\,\\rho(x,x_{i_{k}}))}\n",
    "$$"
   ]
  },
  {
   "cell_type": "markdown",
   "metadata": {
    "slideshow": {
     "slide_type": "subslide"
    }
   },
   "source": [
    "## Commonly chosen weights\n",
    "\n",
    "Index dependent weights:\n",
    "$$\n",
    "w_{k}=\\alpha^{k},\\quad\\alpha\\in(0,1)\n",
    "$$\n",
    "$$\n",
    "w_{k}=\\frac{K+1-k}{K}\n",
    "$$\n",
    "\n",
    "Distance dependent weights:\n",
    "\n",
    "$$\n",
    "w_{k}=\\begin{cases}\n",
    "\\frac{\\rho(z_{K},x)-\\rho(z_{k},x)}{\\rho(z_{K},x)-\\rho(z_{1},x)}, & \\rho(z_{K},x)\\ne\\rho(z_{1},x)\\\\\n",
    "1 & \\rho(z_{K},x)=\\rho(z_{1},x)\n",
    "\\end{cases}\n",
    "$$\n",
    "$$\n",
    "w_{k}=\\frac{1}{\\rho(z_{k},x)}\n",
    "$$"
   ]
  },
  {
   "cell_type": "markdown",
   "metadata": {
    "slideshow": {
     "slide_type": "subslide"
    }
   },
   "source": [
    "### Kernels\n",
    "\n",
    "* $K(\\rho, h)$ - some decreasing function\n",
    "* $h \\geq 0$ - parameter (window width)\n",
    "\n",
    "\n",
    "* gaussian kernel $$K(\\rho, h) \\propto \\exp(- \\frac{\\rho(x, x')^2}{2h^2})$$\n",
    "* tophat kernel $$K(\\rho, h) \\propto 1\\ if\\ x < h$$\n",
    "* epanechnikov kernel $$K(\\rho, h) \\propto 1 - \\frac{\\rho(x, x')^2}{h^2}$$\n",
    "* exponential kernel $$K(\\rho, h) \\propto \\exp(-\\rho(x, x')/h)$$\n",
    "* linear kernel $$K(\\rho, h) \\propto 1 - \\rho(x, x')/h\\ if\\ d < h$$"
   ]
  },
  {
   "cell_type": "markdown",
   "metadata": {
    "slideshow": {
     "slide_type": "subslide"
    }
   },
   "source": [
    "## Kernels\n",
    "\n",
    "<center><img src='http://scikit-learn.org/stable/_images/sphx_glr_plot_kde_1d_0021.png' width=1200></center>"
   ]
  },
  {
   "cell_type": "code",
   "execution_count": 17,
   "metadata": {
    "slideshow": {
     "slide_type": "notes"
    }
   },
   "outputs": [],
   "source": [
    "\n",
    "def plot_knn_class_kernel(k=1, h=0.5, prob=False, use_all=False):\n",
    "    \n",
    "    def gauss_kernel(d, h=h):\n",
    "        return np.exp(-(d**2)/(2*h**2))\n",
    "    \n",
    "    plt.scatter(X_moons[:,0], X_moons[:,1], c=y_moons)\n",
    "    plt.xlabel('$x_1$')\n",
    "    plt.ylabel('$x_2$')\n",
    "    \n",
    "    if use_all:\n",
    "        knn = KNeighborsClassifier(n_neighbors=70, metric='minkowski', p=2, weights=gauss_kernel)\n",
    "    else:\n",
    "        knn = KNeighborsClassifier(n_neighbors=k, metric='minkowski', p=2, weights=gauss_kernel)\n",
    "    knn.fit(X_moons, y_moons)\n",
    "    \n",
    "    x_range = np.linspace(X_moons.min(), X_moons.max(), 500)\n",
    "    # ОДЗ значений признаков\n",
    "\n",
    "    xx1, xx2 = np.meshgrid(x_range, x_range)\n",
    "    # всевозможные попарные значения признаков\n",
    "    if prob:\n",
    "        Y = knn.predict_proba(np.c_[xx1.ravel(), xx2.ravel()])[:,1]\n",
    "    else:\n",
    "        Y = knn.predict(np.c_[xx1.ravel(), xx2.ravel()])\n",
    "    Y = Y.reshape(xx1.shape)\n",
    "\n",
    "    plt.contourf(xx1, xx2, Y, alpha=0.3)\n",
    "    plt.scatter(X_moons[:,0], X_moons[:,1], c=y_moons)\n",
    "    \n",
    "    plt.show()"
   ]
  },
  {
   "cell_type": "code",
   "execution_count": 18,
   "metadata": {
    "slideshow": {
     "slide_type": "subslide"
    }
   },
   "outputs": [
    {
     "data": {
      "application/vnd.jupyter.widget-view+json": {
       "model_id": "dfaf591f36c544198f8ab35ed0253a15",
       "version_major": 2,
       "version_minor": 0
      },
      "text/plain": [
       "interactive(children=(IntSlider(value=1, description='k', max=10, min=1), FloatSlider(value=1.0, description='…"
      ]
     },
     "metadata": {},
     "output_type": "display_data"
    },
    {
     "data": {
      "text/plain": [
       "<function __main__.plot_knn_class_kernel>"
      ]
     },
     "execution_count": 18,
     "metadata": {},
     "output_type": "execute_result"
    }
   ],
   "source": [
    "interact(plot_knn_class_kernel, k=IntSlider(min=1, max=10, value=1), \n",
    "               h=FloatSlider(min=0.05, max=5, value=1, step=0.05))"
   ]
  },
  {
   "cell_type": "markdown",
   "metadata": {
    "slideshow": {
     "slide_type": "subslide"
    }
   },
   "source": [
    "# Summary"
   ]
  },
  {
   "cell_type": "markdown",
   "metadata": {
    "slideshow": {
     "slide_type": "fragment"
    }
   },
   "source": [
    "* Important hyperparameters of K-NN:\n",
    "    * $K$: controls model complexity\n",
    "    * $\\rho(x,x')$\n",
    "\n",
    "* Output depends on feature scaling.\n",
    "    * scaling to equal / non-equal scatter possible.\n",
    "* Prone to curse of dimensionality.\n",
    "* Fast training but long prediction.\n",
    "    * some efficiency improvements are possible though\n",
    "* Weighted account for objects possible."
   ]
  },
  {
   "cell_type": "markdown",
   "metadata": {
    "slideshow": {
     "slide_type": "subslide"
    }
   },
   "source": [
    "## FYI\n",
    "\n",
    "* [About Curse of Dimentionality on cats and dogs](http://www.visiondummy.com/2014/04/curse-dimensionality-affect-classification/)\n",
    "* [Search optimization benchmarks](http://jakevdp.github.io/blog/2013/04/29/benchmarking-nearest-neighbor-searches-in-python/)"
   ]
  },
  {
   "cell_type": "markdown",
   "metadata": {
    "slideshow": {
     "slide_type": "subslide"
    }
   },
   "source": [
    "## Use Case\n",
    "\n",
    "* Despite being very primitive KNN demonstrated good performance in Facebook's Kaggle competiton\n",
    "* Used to make features\n",
    "* [Competiton page](https://www.kaggle.com/c/facebook-v-predicting-check-ins)\n",
    "* [Winner interview](http://blog.kaggle.com/2016/08/16/facebook-v-predicting-check-ins-winners-interview-1st-place-tom-van-de-wiele/)"
   ]
  }
 ],
 "metadata": {
  "_draft": {
   "nbviewer_url": "https://gist.github.com/1f8c4751e12938961e423759861e6e5a"
  },
  "anaconda-cloud": {},
  "celltoolbar": "Slideshow",
  "gist": {
   "data": {
    "description": "CloudMail/hse-da-course/raw/lecture-intro/lecture-intro-v01.ipynb",
    "public": false
   },
   "id": "1f8c4751e12938961e423759861e6e5a"
  },
  "kernelspec": {
   "display_name": "Python 3",
   "language": "python",
   "name": "python3"
  },
  "language_info": {
   "codemirror_mode": {
    "name": "ipython",
    "version": 3
   },
   "file_extension": ".py",
   "mimetype": "text/x-python",
   "name": "python",
   "nbconvert_exporter": "python",
   "pygments_lexer": "ipython3",
   "version": "3.7.0"
  },
  "livereveal": {
   "theme": "serif",
   "transition": "concave"
  },
  "nav_menu": {},
  "toc": {
   "base_numbering": 1,
   "nav_menu": {
    "height": "513px",
    "width": "253px"
   },
   "number_sections": false,
   "sideBar": false,
   "skip_h1_title": false,
   "title_cell": "Table of Contents",
   "title_sidebar": "Contents",
   "toc_cell": false,
   "toc_position": {},
   "toc_section_display": "block",
   "toc_window_display": false
  },
  "toc_position": {
   "height": "32px",
   "left": "9px",
   "right": "1379px",
   "top": "33px",
   "width": "212px"
  },
  "widgets": {
   "state": {
    "54e80d57f79b4bfc934a2b84cf5fe7ba": {
     "views": [
      {
       "cell_index": 47
      }
     ]
    },
    "5fb17a3592634a4fba98446dacd6db43": {
     "views": [
      {
       "cell_index": 11
      }
     ]
    },
    "6f6f6ce7b81743308b92966f225862a8": {
     "views": [
      {
       "cell_index": 34
      }
     ]
    }
   },
   "version": "1.2.0"
  }
 },
 "nbformat": 4,
 "nbformat_minor": 2
}
